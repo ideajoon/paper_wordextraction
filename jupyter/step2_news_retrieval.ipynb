{
 "cells": [
  {
   "cell_type": "code",
   "execution_count": 7,
   "metadata": {
    "collapsed": true
   },
   "outputs": [],
   "source": [
    "import sys\n",
    "sys.path.append('../py/')\n",
    "sys.path.append('../../soynlp/')\n",
    "import configuration as config\n",
    "from similar_news_retrieve import iterate_keyword_combination\n",
    "\n",
    "def pick_top10_words_from_tfdoc(fname):\n",
    "    def pick_top10(doc):\n",
    "        words = doc.split()\n",
    "        words = [(word.split('//')[0], word.split('//')[1]) for word in words]\n",
    "        words = sorted(words, key=lambda x:x[1], reverse=True)[:10]\n",
    "        return [word for word, _ in words]\n",
    "    \n",
    "    with open(fname, encoding='utf-8') as f:\n",
    "        docs = [pick_top10(doc.strip()) for doc in f]\n",
    "        docs = [doc for doc in docs if doc]\n",
    "        return docs"
   ]
  },
  {
   "cell_type": "code",
   "execution_count": 2,
   "metadata": {
    "collapsed": true
   },
   "outputs": [],
   "source": [
    "import glob\n",
    "cohesion_tokenized_corpus = glob.glob('/mnt/sdc1/papers/cohesion/models/*cohesion*.txt')\n",
    "branching_tokenized_corpus = glob.glob('/mnt/sdc1/papers/cohesion/models/*rbe*.txt')\n",
    "coheching_tokenized_corpus = glob.glob('/mnt/sdc1/papers/cohesion/models/*csbe*.txt')"
   ]
  },
  {
   "cell_type": "code",
   "execution_count": 8,
   "metadata": {
    "collapsed": false
   },
   "outputs": [],
   "source": [
    "keyword_candidates = pick_top10_words_from_tfdoc(cohesion_tokenized_corpus[0])\n",
    "from similar_news_retrieve import iterate_keyword_combination"
   ]
  },
  {
   "cell_type": "code",
   "execution_count": 13,
   "metadata": {
    "collapsed": false
   },
   "outputs": [
    {
     "data": {
      "text/plain": [
       "['칼레 영국에 영국',\n",
       " '칼레 영국에 경찰',\n",
       " '칼레 영국에 정부는',\n",
       " '칼레 영국에 있다',\n",
       " '칼레 영국에 연합뉴스',\n",
       " '칼레 영국에 난민',\n",
       " '칼레 영국에 이',\n",
       " '칼레 영국에 22일',\n",
       " '칼레 영국 경찰',\n",
       " '칼레 영국 정부는',\n",
       " '칼레 영국 있다',\n",
       " '칼레 영국 연합뉴스',\n",
       " '칼레 영국 난민',\n",
       " '칼레 영국 이',\n",
       " '칼레 영국 22일',\n",
       " '칼레 경찰 정부는',\n",
       " '칼레 경찰 있다',\n",
       " '칼레 경찰 연합뉴스',\n",
       " '칼레 경찰 난민',\n",
       " '칼레 경찰 이',\n",
       " '칼레 경찰 22일',\n",
       " '칼레 정부는 있다',\n",
       " '칼레 정부는 연합뉴스',\n",
       " '칼레 정부는 난민',\n",
       " '칼레 정부는 이',\n",
       " '칼레 정부는 22일',\n",
       " '칼레 있다 연합뉴스',\n",
       " '칼레 있다 난민',\n",
       " '칼레 있다 이',\n",
       " '칼레 있다 22일',\n",
       " '칼레 연합뉴스 난민',\n",
       " '칼레 연합뉴스 이',\n",
       " '칼레 연합뉴스 22일',\n",
       " '칼레 난민 이',\n",
       " '칼레 난민 22일',\n",
       " '칼레 이 22일',\n",
       " '영국에 영국 경찰',\n",
       " '영국에 영국 정부는',\n",
       " '영국에 영국 있다',\n",
       " '영국에 영국 연합뉴스',\n",
       " '영국에 영국 난민',\n",
       " '영국에 영국 이',\n",
       " '영국에 영국 22일',\n",
       " '영국에 경찰 정부는',\n",
       " '영국에 경찰 있다',\n",
       " '영국에 경찰 연합뉴스',\n",
       " '영국에 경찰 난민',\n",
       " '영국에 경찰 이',\n",
       " '영국에 경찰 22일',\n",
       " '영국에 정부는 있다',\n",
       " '영국에 정부는 연합뉴스',\n",
       " '영국에 정부는 난민',\n",
       " '영국에 정부는 이',\n",
       " '영국에 정부는 22일',\n",
       " '영국에 있다 연합뉴스',\n",
       " '영국에 있다 난민',\n",
       " '영국에 있다 이',\n",
       " '영국에 있다 22일',\n",
       " '영국에 연합뉴스 난민',\n",
       " '영국에 연합뉴스 이',\n",
       " '영국에 연합뉴스 22일',\n",
       " '영국에 난민 이',\n",
       " '영국에 난민 22일',\n",
       " '영국에 이 22일',\n",
       " '영국 경찰 정부는',\n",
       " '영국 경찰 있다',\n",
       " '영국 경찰 연합뉴스',\n",
       " '영국 경찰 난민',\n",
       " '영국 경찰 이',\n",
       " '영국 경찰 22일',\n",
       " '영국 정부는 있다',\n",
       " '영국 정부는 연합뉴스',\n",
       " '영국 정부는 난민',\n",
       " '영국 정부는 이',\n",
       " '영국 정부는 22일',\n",
       " '영국 있다 연합뉴스',\n",
       " '영국 있다 난민',\n",
       " '영국 있다 이',\n",
       " '영국 있다 22일',\n",
       " '영국 연합뉴스 난민',\n",
       " '영국 연합뉴스 이',\n",
       " '영국 연합뉴스 22일',\n",
       " '영국 난민 이',\n",
       " '영국 난민 22일',\n",
       " '영국 이 22일',\n",
       " '경찰 정부는 있다',\n",
       " '경찰 정부는 연합뉴스',\n",
       " '경찰 정부는 난민',\n",
       " '경찰 정부는 이',\n",
       " '경찰 정부는 22일',\n",
       " '경찰 있다 연합뉴스',\n",
       " '경찰 있다 난민',\n",
       " '경찰 있다 이',\n",
       " '경찰 있다 22일',\n",
       " '경찰 연합뉴스 난민',\n",
       " '경찰 연합뉴스 이',\n",
       " '경찰 연합뉴스 22일',\n",
       " '경찰 난민 이',\n",
       " '경찰 난민 22일',\n",
       " '경찰 이 22일',\n",
       " '정부는 있다 연합뉴스',\n",
       " '정부는 있다 난민',\n",
       " '정부는 있다 이',\n",
       " '정부는 있다 22일',\n",
       " '정부는 연합뉴스 난민',\n",
       " '정부는 연합뉴스 이',\n",
       " '정부는 연합뉴스 22일',\n",
       " '정부는 난민 이',\n",
       " '정부는 난민 22일',\n",
       " '정부는 이 22일',\n",
       " '있다 연합뉴스 난민',\n",
       " '있다 연합뉴스 이',\n",
       " '있다 연합뉴스 22일',\n",
       " '있다 난민 이',\n",
       " '있다 난민 22일',\n",
       " '있다 이 22일',\n",
       " '연합뉴스 난민 이',\n",
       " '연합뉴스 난민 22일',\n",
       " '연합뉴스 이 22일',\n",
       " '난민 이 22일']"
      ]
     },
     "execution_count": 13,
     "metadata": {},
     "output_type": "execute_result"
    }
   ],
   "source": [
    "from similar_news_retrieve import iterate_keyword_combination\n",
    "list(iterate_keyword_combination(keyword_candidates[0]))"
   ]
  },
  {
   "cell_type": "code",
   "execution_count": null,
   "metadata": {
    "collapsed": true
   },
   "outputs": [],
   "source": []
  },
  {
   "cell_type": "code",
   "execution_count": 1,
   "metadata": {
    "collapsed": false
   },
   "outputs": [
    {
     "data": {
      "text/plain": [
       "[('2017-05-01', '문재인 정부 인사', 157),\n",
       " ('2017-05-01', '문재인 정부 정책', 69),\n",
       " ('2017-05-01', '문재인 정부 뉴스', 386),\n",
       " ('2017-05-01', '문재인 정부 청와대', 84),\n",
       " ('2017-05-01', '문재인 인사 정책', 150),\n",
       " ('2017-05-01', '문재인 인사 뉴스', 170),\n",
       " ('2017-05-01', '문재인 인사 청와대', 45),\n",
       " ('2017-05-01', '문재인 정책 뉴스', 453),\n",
       " ('2017-05-01', '문재인 정책 청와대', 53),\n",
       " ('2017-05-01', '문재인 뉴스 청와대', 55),\n",
       " ('2017-05-01', '정부 인사 정책', 186),\n",
       " ('2017-05-01', '정부 인사 뉴스', 152),\n",
       " ('2017-05-01', '정부 인사 청와대', 81),\n",
       " ('2017-05-01', '정부 정책 뉴스', 75),\n",
       " ('2017-05-01', '정부 정책 청와대', 23),\n",
       " ('2017-05-01', '정부 뉴스 청와대', 210),\n",
       " ('2017-05-01', '인사 정책 뉴스', 138),\n",
       " ('2017-05-01', '인사 정책 청와대', 49),\n",
       " ('2017-05-01', '인사 뉴스 청와대', 96),\n",
       " ('2017-05-01', '정책 뉴스 청와대', 63)]"
      ]
     },
     "execution_count": 1,
     "metadata": {},
     "output_type": "execute_result"
    }
   ],
   "source": [
    "import sys\n",
    "sys.path.append('../py/')\n",
    "\n",
    "from similar_news_retrieve import get_article_num_of_keywords\n",
    "get_article_num_of_keywords(['문재인', '정부', '인사', '정책', '뉴스', '청와대'], '2017-05-01')"
   ]
  },
  {
   "cell_type": "code",
   "execution_count": 2,
   "metadata": {
    "collapsed": false
   },
   "outputs": [
    {
     "data": {
      "text/plain": [
       "[('081', '0002817707'),\n",
       " ('277', '0003986351'),\n",
       " ('018', '0003814447'),\n",
       " ('018', '0003814339'),\n",
       " ('030', '0002605713'),\n",
       " ('052', '0001005160'),\n",
       " ('011', '0003025408'),\n",
       " ('055', '0000526549'),\n",
       " ('001', '0009232444'),\n",
       " ('421', '0002707895'),\n",
       " ('052', '0001005180'),\n",
       " ('020', '0003061750'),\n",
       " ('421', '0002706869'),\n",
       " ('030', '0002605714'),\n",
       " ('016', '0001231761'),\n",
       " ('421', '0002707134'),\n",
       " ('421', '0002707580'),\n",
       " ('056', '0010450818'),\n",
       " ('018', '0003814508'),\n",
       " ('003', '0007928768'),\n",
       " ('025', '0002711509'),\n",
       " ('421', '0002708388'),\n",
       " ('030', '0002605707'),\n",
       " ('018', '0003814745'),\n",
       " ('014', '0003809827'),\n",
       " ('028', '0002363073'),\n",
       " ('008', '0003866254'),\n",
       " ('002', '0002030530'),\n",
       " ('082', '0000702122'),\n",
       " ('305', '0000020867'),\n",
       " ('032', '0002784629'),\n",
       " ('079', '0002962073'),\n",
       " ('088', '0000489489'),\n",
       " ('277', '0003986252'),\n",
       " ('029', '0002400513'),\n",
       " ('030', '0002605683'),\n",
       " ('018', '0003814689')]"
      ]
     },
     "execution_count": 2,
     "metadata": {},
     "output_type": "execute_result"
    }
   ],
   "source": [
    "from similar_news_retrieve import get_article_idx\n",
    "news = get_article_idx('문재인 정부 정책', '2017-05-01')\n",
    "news"
   ]
  },
  {
   "cell_type": "code",
   "execution_count": null,
   "metadata": {
    "collapsed": true
   },
   "outputs": [],
   "source": []
  }
 ],
 "metadata": {
  "anaconda-cloud": {},
  "kernelspec": {
   "display_name": "Python 3",
   "language": "python",
   "name": "python3"
  },
  "language_info": {
   "codemirror_mode": {
    "name": "ipython",
    "version": 3
   },
   "file_extension": ".py",
   "mimetype": "text/x-python",
   "name": "python",
   "nbconvert_exporter": "python",
   "pygments_lexer": "ipython3",
   "version": "3.5.2"
  }
 },
 "nbformat": 4,
 "nbformat_minor": 0
}
