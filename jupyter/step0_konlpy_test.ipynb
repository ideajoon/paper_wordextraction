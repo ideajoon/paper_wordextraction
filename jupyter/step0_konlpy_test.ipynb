{
 "cells": [
  {
   "cell_type": "code",
   "execution_count": null,
   "metadata": {
    "collapsed": true
   },
   "outputs": [],
   "source": [
    "from collections import Counter\n",
    "from konlpy.tag import Kkma, Twitter, Hannanum\n",
    "\n",
    "doc = '이것도 잘라보시고, 이번 뉴스예문에서는 정치인, 블랙핑크 아무말대잔치가 벌어집니다'\n",
    "\n",
    "class KkmaWrapping:\n",
    "    def __init__(self):\n",
    "        self.kkma = Kkma()\n",
    "    def tf(self, doc):\n",
    "        words = Counter(self.kkma.pos(doc))\n",
    "        words = [('%s/%s'%(word, tag), freq) for (word, tag), freq in words.items() if tag[0] == 'N' or tag[0] == 'V']\n",
    "        return words\n",
    "    \n",
    "class TwitterWrapping:\n",
    "    def __init__(self):\n",
    "        self.twitter = Twitter()\n",
    "    def tf(self, doc):\n",
    "        words = Counter(self.twitter.pos(doc))\n",
    "        words = [('%s/%s'%(word, tag), freq) for (word, tag), freq in words.items() if tag == 'Noun' or tag == 'Verb' or tag == 'Adjective']\n",
    "        return words\n",
    "    \n",
    "class HannanumWrapping:\n",
    "    def __init__(self):\n",
    "        self.hannanum = Hannanum()\n",
    "    def tf(self, doc):\n",
    "        words = Counter(self.hannanum.pos(doc))\n",
    "        words = [('%s/%s'%(word, tag), freq) for (word, tag), freq in words.items() if tag[0] == 'N' or tag[0] == 'P']\n",
    "        return words\n"
   ]
  }
 ],
 "metadata": {
  "kernelspec": {
   "display_name": "Python 3",
   "language": "python",
   "name": "python3"
  },
  "language_info": {
   "codemirror_mode": {
    "name": "ipython",
    "version": 3
   },
   "file_extension": ".py",
   "mimetype": "text/x-python",
   "name": "python",
   "nbconvert_exporter": "python",
   "pygments_lexer": "ipython3",
   "version": "3.5.2"
  }
 },
 "nbformat": 4,
 "nbformat_minor": 0
}
